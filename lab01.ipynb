{
  "cells": [
    {
      "cell_type": "markdown",
      "id": "7b030395-ff9d-488b-893a-3f2925d07a29",
      "metadata": {},
      "source": [
        "# BEE 4750 Lab 1: Julia and GitHub Basics\n",
        "\n",
        "**Name**: Jiaming Yuan (jy729)\n",
        "\n",
        "**ID**: 5393613\n",
        "\n",
        "> **Due Date**\n",
        ">\n",
        "> Wednesday, 8/28/24, 9:00pm\n",
        "\n",
        "## Setup\n",
        "\n",
        "The following code should go at the top of most Julia scripts; it will\n",
        "load the local package environment and install any needed packages. You\n",
        "will see this often and shouldn’t need to touch it."
      ]
    },
    {
      "cell_type": "code",
      "execution_count": 59,
      "id": "2",
      "metadata": {},
      "outputs": [
        {
          "name": "stderr",
          "output_type": "stream",
          "text": [
            "\u001b[32m\u001b[1m  Activating\u001b[22m\u001b[39m project at `~/Documents/Programming/Julia/BEE4750/labs/lab-1-jiamingy5`\n"
          ]
        }
      ],
      "source": [
        "import Pkg\n",
        "Pkg.activate(\".\")\n",
        "Pkg.instantiate()"
      ]
    },
    {
      "cell_type": "markdown",
      "id": "b0c0f53b-93bc-4baa-8b0e-bdb58e8ff961",
      "metadata": {},
      "source": [
        "This next cell loads packages which are required for the rest of the\n",
        "code evaluation. In this case, we only need to load the `Plots.jl`\n",
        "plotting package, but you will see others over the course of the\n",
        "semester (and can add more if desired; just make sure that you’ve [added\n",
        "the new packages to the\n",
        "environment](https://viveks.me/environmental-systems-analysis/tutorials/julia-basics.html#package-management)).\n",
        "Standard Julia practice is to load all of the needed packages at the top\n",
        "of the file.\n",
        "\n",
        "> **Warning**\n",
        ">\n",
        "> Loading packages can take a while, especially the first time! Julia\n",
        "> tries to precompile all of the packages you’re using so repeat use is\n",
        "> faster, but this can be quite slow at first."
      ]
    },
    {
      "cell_type": "code",
      "execution_count": 60,
      "id": "4",
      "metadata": {},
      "outputs": [],
      "source": [
        "using Plots"
      ]
    },
    {
      "cell_type": "markdown",
      "id": "6d2bc421-d992-4864-a390-fd6d7820f6c0",
      "metadata": {},
      "source": [
        "## Introduction\n",
        "\n",
        "### Julia\n",
        "\n",
        "Julia is an up-and-coming language, originally developed for scientific\n",
        "programming. While learning a new programming language always has its\n",
        "hiccups, the good news is that if you’ve programmed in a high-level\n",
        "language such as Python or MATLAB, most Julia concepts should look\n",
        "familiar.\n",
        "\n",
        "If you have not successfully set up Julia, follow the instructions in\n",
        "[Tools\n",
        "Setup](https://viveks.me/environmental-systems-analysis/setup.html)\n",
        "and/or ask for help.\n",
        "\n",
        "You can use other editors for this course, but our recommendation is\n",
        "[Visual Studio Code](https://code.visualstudio.com/) with the [Julia\n",
        "extension](https://marketplace.visualstudio.com/items?itemName=julialang.language-julia),\n",
        "which will make life a *lot* simpler! You should have set this up by\n",
        "following the [Tools\n",
        "Setup](https://viveks.me/environmental-systems-analysis/setup.html)\n",
        "instructions, but if not, do so now and/or ask for help.\n",
        "\n",
        "### Jupyter Notebooks\n",
        "\n",
        "Jupyter notebooks integrate text and equations in Markdown with Julia\n",
        "(or Python, or R) code. To do this, Jupyter notebooks consist of two\n",
        "types of “cells”: code cells and Markdown (text) cells.\n",
        "\n",
        "Click once on this section of text. A box will appear around this text\n",
        "(and some areas above/below it) - all of that is within this cell.\n",
        "\n",
        "Markdown is a text markup framework for formatting language that makes\n",
        "things look pretty when viewed across different platforms: web browsers,\n",
        "notebooks, and so forth. Text written in Markdown can also include\n",
        "hyperlinks, LaTeX equations, section headers, and images, among other\n",
        "features (most of [the course\n",
        "website](https://viveks.me/climate-risk-analysis) and the lecture notes\n",
        "were all written in Markdown!). [Here is a basic Markdown cheat\n",
        "sheet](https://www.markdownguide.org/cheat-sheet/).\n",
        "\n",
        "What you are looking at right now is the formatted text after the\n",
        "Markdown is processed. To see the raw Markdown, do one of:\n",
        "\n",
        "-   press `Enter` while that cell is selected, or\n",
        "-   double-click on that cell.\n",
        "\n",
        "------------------------------------------------------------------------\n",
        "\n",
        "A couple of the features you will see in this Markdown cell:\n",
        "\n",
        "-   The `---` command creates a horizontal line. This is also nice for\n",
        "    separating sections.\n",
        "-   Backticks (`` `...` ``) can be used to format and highlight code,\n",
        "    keystrokes, etc.\n",
        "-   The `#` sign is used to create a new section header; two `#` signs\n",
        "    (`##`) is used to create a new subsection header; `###` creates a\n",
        "    subsubsection, and so on.\n",
        "-   You can create a bulleted list by using the asterisk `*` or a dash\n",
        "    `-` and a space.\n",
        "-   You can create regular text by just typing as usual.\n",
        "-   You can create **bold-faced text** by wrapping it with two asterisks\n",
        "    on both sides.\n",
        "-   You can create *italicized text* by wrapping it with a single\n",
        "    asterisk on both sides.\n",
        "-   To create a new paragraph, you must include a blank line between the\n",
        "    old and new paragraphs.\n",
        "\n",
        "At this point you might be wondering how to turn this cell back into the\n",
        "fully formatted Markdown text instead of the raw Markdown you’re\n",
        "probably still looking at. You have a couple of options, depending on\n",
        "your platform, but the most consistent is to type `Shift + Enter` to\n",
        "**execute** the cell (this is also how to run code, but more on that\n",
        "later).\n",
        "\n",
        "Additionally, you will frequently need to create new cells in your\n",
        "Jupyter notebooks. How you do this will depend on how you interact with\n",
        "the notebook, but try to figure this out now.\n",
        "\n",
        "One tip is to think carefully about what bits of code should be in the\n",
        "same cell, as you typically only see output from the last command in a\n",
        "cell. For example, compare the following:"
      ]
    },
    {
      "cell_type": "code",
      "execution_count": 1,
      "id": "6",
      "metadata": {},
      "outputs": [
        {
          "data": {
            "text/plain": [
              "-0.9589242746631385"
            ]
          },
          "metadata": {},
          "output_type": "display_data"
        }
      ],
      "source": [
        "x = 5\n",
        "sin(x)"
      ]
    },
    {
      "cell_type": "markdown",
      "id": "0b56a2f1-81e8-4426-b62a-95cfc3933b92",
      "metadata": {},
      "source": [
        "with"
      ]
    },
    {
      "cell_type": "code",
      "execution_count": 1,
      "id": "8",
      "metadata": {},
      "outputs": [
        {
          "data": {
            "text/plain": [
              "5"
            ]
          },
          "metadata": {},
          "output_type": "display_data"
        }
      ],
      "source": [
        "x = 5"
      ]
    },
    {
      "cell_type": "code",
      "execution_count": 1,
      "id": "10",
      "metadata": {},
      "outputs": [
        {
          "data": {
            "text/plain": [
              "-0.9589242746631385"
            ]
          },
          "metadata": {},
          "output_type": "display_data"
        }
      ],
      "source": [
        "sin(x)"
      ]
    },
    {
      "cell_type": "markdown",
      "id": "474d541d-93e6-47e1-874f-80abd6c9d7cc",
      "metadata": {},
      "source": [
        "In Julia, you can also suppress the output of a command with a\n",
        "semi-colon:"
      ]
    },
    {
      "cell_type": "code",
      "execution_count": 1,
      "id": "12",
      "metadata": {},
      "outputs": [],
      "source": [
        "sin(x);"
      ]
    },
    {
      "cell_type": "markdown",
      "id": "e5950d08-d04e-4fc7-bed8-33e0ee9a1909",
      "metadata": {},
      "source": [
        "which can help if you want to split some code out for clarity or to\n",
        "insert some text prior to it, but don’t want to clutter the notebook\n",
        "with its output.\n",
        "\n",
        "For code cells, to execute the commands within the cell, we also press\n",
        "`Shift+Enter`.\n",
        "\n",
        "Finally, **make sure that you evaluate all of the code cells in order\n",
        "before submitting**. One bad outcome with notebooks occurs when cells\n",
        "are evaluated out of order, so fixed bugs and edits in previous cells do\n",
        "not get a chance to propagate down. You can do this with the `Run All`\n",
        "command in whichever interface you’re using to edit your notebook.\n",
        "\n",
        "### Julia Basics\n",
        "\n",
        "There are many tutorials and references for Julia, including a [basics\n",
        "overview on the class website](../tutorials/julia-basics.html). Please\n",
        "feel free to reference these as you work through any part of the course.\n",
        "\n",
        "### Formatting Math\n",
        "\n",
        "It will often be helpful to include nicely-formatted mathematics in a\n",
        "notebook. Markdown accomodates this using LaTeX syntax. A LaTeX\n",
        "cheatsheet is available on the class website, and many other guides\n",
        "exist online.\n",
        "\n",
        "Below is an example of a formatted equation: $$x = 5.$$\n",
        "\n",
        "### Looking For Help\n",
        "\n",
        "There is no shame in using Google, or other resources, for help when\n",
        "programming. There are many, many times when you can’t quite get the\n",
        "syntax to work, can’t quite figure out the right package or command to\n",
        "use, or are feeling too lazy or overwhelmed (I’m not judging either of\n",
        "those!) to dig through the documentation. Some good resources include:\n",
        "\n",
        "-   [Stack Overflow](https://stackoverflow.com/) is a treasure trove of\n",
        "    answers;\n",
        "-   The [official Julia forum](https://discourse.julialang.org/) and the\n",
        "    [Julia Subreddit](https://www.reddit.com/r/Julia/) are also very\n",
        "    useful.\n",
        "\n",
        "You are also highly encouraged to post on [Ed\n",
        "Discussion](https://us.edstem.org), though getting a response might be\n",
        "less immediate. Just be mindful that to get good answers, [you have to\n",
        "help people help you](https://stackoverflow.com/help/how-to-ask), and\n",
        "**make sure to give credit to any resources that were helpful**!\n",
        "\n",
        "## Exercises (3 points)\n",
        "\n",
        "Use your understanding of Julia syntax and the GitHub workflow to\n",
        "complete the following (hopefully short) exercises. Convert your\n",
        "completed lab assignment to a PDF and submit it to the Gradescope\n",
        "Assignment “Lab 1”.\n",
        "\n",
        "**Remember to**:\n",
        "\n",
        "-   Include a (succint but clear) writeup of the core idea underlying\n",
        "    your code, through some combination of equations, text, and\n",
        "    algorithms. As you are not required to submit your code, we will not\n",
        "    be looking at it in detail, and instead will rely on those writeups\n",
        "    to assess whether your approach is correct.\n",
        "-   If using the notebook, evaluate all of your code cells, in order\n",
        "    (using a `Run All` command). This will make sure all output is\n",
        "    visible and that the code cells were evaluated in the correct order.\n",
        "-   Tag each of the problems when you submit to Gradescope; a 10%\n",
        "    penalty will be deducted if this is not done.\n",
        "\n",
        "### Computing a Dot Product\n",
        "\n",
        "Given two numeric arrays `x` and `y`, write a function to compute their\n",
        "dot product if they have equal length, and return an error if not (this\n",
        "is useful for debugging!). Use the following code as a starting point."
      ]
    },
    {
      "cell_type": "code",
      "execution_count": 61,
      "id": "14",
      "metadata": {},
      "outputs": [
        {
          "data": {
            "text/plain": [
              "dot_product (generic function with 1 method)"
            ]
          },
          "metadata": {},
          "output_type": "display_data"
        }
      ],
      "source": [
        "function dot_product(x, y)\n",
        "    if length(x) == length(y) # insert test condition for equal lengths\n",
        "        # compute and return dot product\n",
        "        prod = 0\n",
        "        for n in 1:length(x)\n",
        "            prod = prod + x[n]*y[n]\n",
        "        end\n",
        "        return prod\n",
        "    else\n",
        "        throw(DimensionMismatch(\"length of x not equal to length of y\"))\n",
        "    end\n",
        "end"
      ]
    },
    {
      "cell_type": "markdown",
      "id": "e0ce47a6-a5e8-4cd8-a776-5b04adfa6330",
      "metadata": {},
      "source": [
        "Here are some tests to make sure your code works as intended. Tests like\n",
        "these are useful to make sure everything works as intended. One reason\n",
        "to split your code up into functions is that it makes it straightforward\n",
        "to write tests to make sure each piece of your code works, which makes\n",
        "it easier to identify where errors are occuring."
      ]
    },
    {
      "cell_type": "code",
      "execution_count": 62,
      "id": "16",
      "metadata": {},
      "outputs": [
        {
          "data": {
            "text/plain": [
              "32"
            ]
          },
          "metadata": {},
          "output_type": "display_data"
        }
      ],
      "source": [
        "dot_product([1 2 3], [4 5 6])"
      ]
    },
    {
      "cell_type": "markdown",
      "id": "37f85171-25e8-4513-b57c-af25ff4378e7",
      "metadata": {},
      "source": [
        "If you know the value you should get, you can write a more formal test\n",
        "using the `@assert` macro, which is a good way to “automate” checking\n",
        "(since you get an obvious error if the code doesn’t work as desired):"
      ]
    },
    {
      "cell_type": "code",
      "execution_count": 63,
      "id": "18",
      "metadata": {},
      "outputs": [],
      "source": [
        "@assert dot_product([1 2 3], [4 5 6]) == 32"
      ]
    },
    {
      "cell_type": "markdown",
      "id": "65ccdcd8-449e-4f0c-8f4e-7953ea267f8d",
      "metadata": {},
      "source": [
        "Let’s also make sure we get an error when the dimensions of the two\n",
        "vectors don’t match:"
      ]
    },
    {
      "cell_type": "code",
      "execution_count": 64,
      "id": "20",
      "metadata": {},
      "outputs": [
        {
          "ename": "DimensionMismatch",
          "evalue": "DimensionMismatch: length of x not equal to length of y",
          "output_type": "error",
          "traceback": [
            "DimensionMismatch: length of x not equal to length of y\n",
            "\n",
            "Stacktrace:\n",
            " [1] dot_product(x::Matrix{Int64}, y::Matrix{Int64})\n",
            "   @ Main ~/Documents/Programming/Julia/BEE4750/labs/lab-1-jiamingy5/jl_notebook_cell_df34fa98e69747e1a8f8a730347b8e2f_X15sZmlsZQ==.jl:10\n",
            " [2] top-level scope\n",
            "   @ ~/Documents/Programming/Julia/BEE4750/labs/lab-1-jiamingy5/jl_notebook_cell_df34fa98e69747e1a8f8a730347b8e2f_X24sZmlsZQ==.jl:1"
          ]
        }
      ],
      "source": [
        "dot_product([1 2 3], [4 5])"
      ]
    },
    {
      "cell_type": "markdown",
      "id": "8c069a05-159a-43b4-aa3f-d1fec9a2f727",
      "metadata": {},
      "source": [
        "### Making a Plot\n",
        "\n",
        "Write a function to compute the square of an integer `x`. Evaluate this\n",
        "function for integers between $x=-5$ and $x=5$ and make a plot of the\n",
        "squared values (you can find a quick guide to making various types of\n",
        "plots\n",
        "[here](https://viveks.me/environmental-systems-analysis/tutorials/julia-plots.html)).\n",
        "Make sure to label your axes."
      ]
    },
    {
      "cell_type": "code",
      "execution_count": 65,
      "id": "22",
      "metadata": {},
      "outputs": [
        {
          "data": {
            "image/png": "[encoded data removed]",
            "image/svg+xml": [
              "<?xml version=\"1.0\" encoding=\"utf-8\"?>\n",
              "<svg xmlns=\"http://www.w3.org/2000/svg\" xmlns:xlink=\"http://www.w3.org/1999/xlink\" width=\"600\" height=\"400\" viewBox=\"0 0 2400 1600\">\n",
              "<defs>\n",
              "  <clipPath id=\"clip990\">\n",
              "    <rect x=\"0\" y=\"0\" width=\"2400\" height=\"1600\"/>\n",
              "  </clipPath>\n",
              "</defs>\n",
              "<path clip-path=\"url(#clip990)\" d=\"M0 1600 L2400 1600 L2400 8.88178e-14 L0 8.88178e-14  Z\" fill=\"#ffffff\" fill-rule=\"evenodd\" fill-opacity=\"1\"/>\n",
              "<defs>\n",
              "  <clipPath id=\"clip991\">\n",
              "    <rect x=\"480\" y=\"0\" width=\"1681\" height=\"1600\"/>\n",
              "  </clipPath>\n",
              "</defs>\n",
              "<path clip-path=\"url(#clip990)\" d=\"M203.964 1423.18 L2352.76 1423.18 L2352.76 47.2441 L203.964 47.2441  Z\" fill=\"#ffffff\" fill-rule=\"evenodd\" fill-opacity=\"1\"/>\n",
              "<defs>\n",
              "  <clipPath id=\"clip992\">\n",
              "    <rect x=\"203\" y=\"47\" width=\"2150\" height=\"1377\"/>\n",
              "  </clipPath>\n",
              "</defs>\n",
              "<polyline clip-path=\"url(#clip992)\" style=\"stroke:#000000; stroke-linecap:round; stroke-linejoin:round; stroke-width:2; stroke-opacity:0.1; fill:none\" points=\"467.495,1423.18 467.495,47.2441 \"/>\n",
              "<polyline clip-path=\"url(#clip992)\" style=\"stroke:#000000; stroke-linecap:round; stroke-linejoin:round; stroke-width:2; stroke-opacity:0.1; fill:none\" points=\"872.927,1423.18 872.927,47.2441 \"/>\n",
              "<polyline clip-path=\"url(#clip992)\" style=\"stroke:#000000; stroke-linecap:round; stroke-linejoin:round; stroke-width:2; stroke-opacity:0.1; fill:none\" points=\"1278.36,1423.18 1278.36,47.2441 \"/>\n",
              "<polyline clip-path=\"url(#clip992)\" style=\"stroke:#000000; stroke-linecap:round; stroke-linejoin:round; stroke-width:2; stroke-opacity:0.1; fill:none\" points=\"1683.79,1423.18 1683.79,47.2441 \"/>\n",
              "<polyline clip-path=\"url(#clip992)\" style=\"stroke:#000000; stroke-linecap:round; stroke-linejoin:round; stroke-width:2; stroke-opacity:0.1; fill:none\" points=\"2089.22,1423.18 2089.22,47.2441 \"/>\n",
              "<polyline clip-path=\"url(#clip990)\" style=\"stroke:#000000; stroke-linecap:round; stroke-linejoin:round; stroke-width:4; stroke-opacity:1; fill:none\" points=\"203.964,1423.18 2352.76,1423.18 \"/>\n",
              "<polyline clip-path=\"url(#clip990)\" style=\"stroke:#000000; stroke-linecap:round; stroke-linejoin:round; stroke-width:4; stroke-opacity:1; fill:none\" points=\"467.495,1423.18 467.495,1404.28 \"/>\n",
              "<polyline clip-path=\"url(#clip990)\" style=\"stroke:#000000; stroke-linecap:round; stroke-linejoin:round; stroke-width:4; stroke-opacity:1; fill:none\" points=\"872.927,1423.18 872.927,1404.28 \"/>\n",
              "<polyline clip-path=\"url(#clip990)\" style=\"stroke:#000000; stroke-linecap:round; stroke-linejoin:round; stroke-width:4; stroke-opacity:1; fill:none\" points=\"1278.36,1423.18 1278.36,1404.28 \"/>\n",
              "<polyline clip-path=\"url(#clip990)\" style=\"stroke:#000000; stroke-linecap:round; stroke-linejoin:round; stroke-width:4; stroke-opacity:1; fill:none\" points=\"1683.79,1423.18 1683.79,1404.28 \"/>\n",
              "<polyline clip-path=\"url(#clip990)\" style=\"stroke:#000000; stroke-linecap:round; stroke-linejoin:round; stroke-width:4; stroke-opacity:1; fill:none\" points=\"2089.22,1423.18 2089.22,1404.28 \"/>\n",
              "<path clip-path=\"url(#clip990)\" d=\"M436.395 1468.75 L466.071 1468.75 L466.071 1472.69 L436.395 1472.69 L436.395 1468.75 Z\" fill=\"#000000\" fill-rule=\"nonzero\" fill-opacity=\"1\" /><path clip-path=\"url(#clip990)\" d=\"M489.011 1455.09 L477.205 1473.54 L489.011 1473.54 L489.011 1455.09 M487.784 1451.02 L493.664 1451.02 L493.664 1473.54 L498.594 1473.54 L498.594 1477.43 L493.664 1477.43 L493.664 1485.58 L489.011 1485.58 L489.011 1477.43 L473.409 1477.43 L473.409 1472.92 L487.784 1451.02 Z\" fill=\"#000000\" fill-rule=\"nonzero\" fill-opacity=\"1\" /><path clip-path=\"url(#clip990)\" d=\"M842.87 1468.75 L872.545 1468.75 L872.545 1472.69 L842.87 1472.69 L842.87 1468.75 Z\" fill=\"#000000\" fill-rule=\"nonzero\" fill-opacity=\"1\" /><path clip-path=\"url(#clip990)\" d=\"M886.666 1481.64 L902.985 1481.64 L902.985 1485.58 L881.041 1485.58 L881.041 1481.64 Q883.703 1478.89 888.286 1474.26 Q892.892 1469.61 894.073 1468.27 Q896.318 1465.74 897.198 1464.01 Q898.101 1462.25 898.101 1460.56 Q898.101 1457.8 896.156 1456.07 Q894.235 1454.33 891.133 1454.33 Q888.934 1454.33 886.48 1455.09 Q884.05 1455.86 881.272 1457.41 L881.272 1452.69 Q884.096 1451.55 886.55 1450.97 Q889.004 1450.39 891.041 1450.39 Q896.411 1450.39 899.605 1453.08 Q902.8 1455.77 902.8 1460.26 Q902.8 1462.39 901.99 1464.31 Q901.203 1466.2 899.096 1468.8 Q898.517 1469.47 895.416 1472.69 Q892.314 1475.88 886.666 1481.64 Z\" fill=\"#000000\" fill-rule=\"nonzero\" fill-opacity=\"1\" /><path clip-path=\"url(#clip990)\" d=\"M1278.36 1454.1 Q1274.75 1454.1 1272.92 1457.66 Q1271.11 1461.2 1271.11 1468.33 Q1271.11 1475.44 1272.92 1479.01 Q1274.75 1482.55 1278.36 1482.55 Q1281.99 1482.55 1283.8 1479.01 Q1285.63 1475.44 1285.63 1468.33 Q1285.63 1461.2 1283.8 1457.66 Q1281.99 1454.1 1278.36 1454.1 M1278.36 1450.39 Q1284.17 1450.39 1287.23 1455 Q1290.3 1459.58 1290.3 1468.33 Q1290.3 1477.06 1287.23 1481.67 Q1284.17 1486.25 1278.36 1486.25 Q1272.55 1486.25 1269.47 1481.67 Q1266.42 1477.06 1266.42 1468.33 Q1266.42 1459.58 1269.47 1455 Q1272.55 1450.39 1278.36 1450.39 Z\" fill=\"#000000\" fill-rule=\"nonzero\" fill-opacity=\"1\" /><path clip-path=\"url(#clip990)\" d=\"M1678.45 1481.64 L1694.76 1481.64 L1694.76 1485.58 L1672.82 1485.58 L1672.82 1481.64 Q1675.48 1478.89 1680.07 1474.26 Q1684.67 1469.61 1685.85 1468.27 Q1688.1 1465.74 1688.98 1464.01 Q1689.88 1462.25 1689.88 1460.56 Q1689.88 1457.8 1687.94 1456.07 Q1686.01 1454.33 1682.91 1454.33 Q1680.71 1454.33 1678.26 1455.09 Q1675.83 1455.86 1673.05 1457.41 L1673.05 1452.69 Q1675.88 1451.55 1678.33 1450.97 Q1680.78 1450.39 1682.82 1450.39 Q1688.19 1450.39 1691.38 1453.08 Q1694.58 1455.77 1694.58 1460.26 Q1694.58 1462.39 1693.77 1464.31 Q1692.98 1466.2 1690.88 1468.8 Q1690.3 1469.47 1687.2 1472.69 Q1684.09 1475.88 1678.45 1481.64 Z\" fill=\"#000000\" fill-rule=\"nonzero\" fill-opacity=\"1\" /><path clip-path=\"url(#clip990)\" d=\"M2092.23 1455.09 L2080.43 1473.54 L2092.23 1473.54 L2092.23 1455.09 M2091.01 1451.02 L2096.89 1451.02 L2096.89 1473.54 L2101.82 1473.54 L2101.82 1477.43 L2096.89 1477.43 L2096.89 1485.58 L2092.23 1485.58 L2092.23 1477.43 L2076.63 1477.43 L2076.63 1472.92 L2091.01 1451.02 Z\" fill=\"#000000\" fill-rule=\"nonzero\" fill-opacity=\"1\" /><path clip-path=\"url(#clip990)\" d=\"M1294.97 1532.4 L1282.08 1549.74 L1295.64 1568.04 L1288.74 1568.04 L1278.36 1554.04 L1267.98 1568.04 L1261.08 1568.04 L1274.92 1549.39 L1262.25 1532.4 L1269.16 1532.4 L1278.61 1545.1 L1288.07 1532.4 L1294.97 1532.4 Z\" fill=\"#000000\" fill-rule=\"nonzero\" fill-opacity=\"1\" /><polyline clip-path=\"url(#clip992)\" style=\"stroke:#000000; stroke-linecap:round; stroke-linejoin:round; stroke-width:2; stroke-opacity:0.1; fill:none\" points=\"203.964,1384.24 2352.76,1384.24 \"/>\n",
              "<polyline clip-path=\"url(#clip992)\" style=\"stroke:#000000; stroke-linecap:round; stroke-linejoin:round; stroke-width:2; stroke-opacity:0.1; fill:none\" points=\"203.964,1124.63 2352.76,1124.63 \"/>\n",
              "<polyline clip-path=\"url(#clip992)\" style=\"stroke:#000000; stroke-linecap:round; stroke-linejoin:round; stroke-width:2; stroke-opacity:0.1; fill:none\" points=\"203.964,865.017 2352.76,865.017 \"/>\n",
              "<polyline clip-path=\"url(#clip992)\" style=\"stroke:#000000; stroke-linecap:round; stroke-linejoin:round; stroke-width:2; stroke-opacity:0.1; fill:none\" points=\"203.964,605.407 2352.76,605.407 \"/>\n",
              "<polyline clip-path=\"url(#clip992)\" style=\"stroke:#000000; stroke-linecap:round; stroke-linejoin:round; stroke-width:2; stroke-opacity:0.1; fill:none\" points=\"203.964,345.796 2352.76,345.796 \"/>\n",
              "<polyline clip-path=\"url(#clip992)\" style=\"stroke:#000000; stroke-linecap:round; stroke-linejoin:round; stroke-width:2; stroke-opacity:0.1; fill:none\" points=\"203.964,86.1857 2352.76,86.1857 \"/>\n",
              "<polyline clip-path=\"url(#clip990)\" style=\"stroke:#000000; stroke-linecap:round; stroke-linejoin:round; stroke-width:4; stroke-opacity:1; fill:none\" points=\"203.964,1423.18 203.964,47.2441 \"/>\n",
              "<polyline clip-path=\"url(#clip990)\" style=\"stroke:#000000; stroke-linecap:round; stroke-linejoin:round; stroke-width:4; stroke-opacity:1; fill:none\" points=\"203.964,1384.24 222.861,1384.24 \"/>\n",
              "<polyline clip-path=\"url(#clip990)\" style=\"stroke:#000000; stroke-linecap:round; stroke-linejoin:round; stroke-width:4; stroke-opacity:1; fill:none\" points=\"203.964,1124.63 222.861,1124.63 \"/>\n",
              "<polyline clip-path=\"url(#clip990)\" style=\"stroke:#000000; stroke-linecap:round; stroke-linejoin:round; stroke-width:4; stroke-opacity:1; fill:none\" points=\"203.964,865.017 222.861,865.017 \"/>\n",
              "<polyline clip-path=\"url(#clip990)\" style=\"stroke:#000000; stroke-linecap:round; stroke-linejoin:round; stroke-width:4; stroke-opacity:1; fill:none\" points=\"203.964,605.407 222.861,605.407 \"/>\n",
              "<polyline clip-path=\"url(#clip990)\" style=\"stroke:#000000; stroke-linecap:round; stroke-linejoin:round; stroke-width:4; stroke-opacity:1; fill:none\" points=\"203.964,345.796 222.861,345.796 \"/>\n",
              "<polyline clip-path=\"url(#clip990)\" style=\"stroke:#000000; stroke-linecap:round; stroke-linejoin:round; stroke-width:4; stroke-opacity:1; fill:none\" points=\"203.964,86.1857 222.861,86.1857 \"/>\n",
              "<path clip-path=\"url(#clip990)\" d=\"M156.019 1370.04 Q152.408 1370.04 150.579 1373.6 Q148.774 1377.14 148.774 1384.27 Q148.774 1391.38 150.579 1394.94 Q152.408 1398.49 156.019 1398.49 Q159.653 1398.49 161.459 1394.94 Q163.288 1391.38 163.288 1384.27 Q163.288 1377.14 161.459 1373.6 Q159.653 1370.04 156.019 1370.04 M156.019 1366.33 Q161.829 1366.33 164.885 1370.94 Q167.964 1375.52 167.964 1384.27 Q167.964 1393 164.885 1397.61 Q161.829 1402.19 156.019 1402.19 Q150.209 1402.19 147.13 1397.61 Q144.075 1393 144.075 1384.27 Q144.075 1375.52 147.13 1370.94 Q150.209 1366.33 156.019 1366.33 Z\" fill=\"#000000\" fill-rule=\"nonzero\" fill-opacity=\"1\" /><path clip-path=\"url(#clip990)\" d=\"M147.061 1107.35 L165.417 1107.35 L165.417 1111.28 L151.343 1111.28 L151.343 1119.76 Q152.362 1119.41 153.38 1119.25 Q154.399 1119.06 155.417 1119.06 Q161.204 1119.06 164.584 1122.23 Q167.964 1125.4 167.964 1130.82 Q167.964 1136.4 164.491 1139.5 Q161.019 1142.58 154.7 1142.58 Q152.524 1142.58 150.255 1142.21 Q148.01 1141.84 145.603 1141.1 L145.603 1136.4 Q147.686 1137.53 149.908 1138.09 Q152.13 1138.64 154.607 1138.64 Q158.612 1138.64 160.95 1136.54 Q163.288 1134.43 163.288 1130.82 Q163.288 1127.21 160.95 1125.1 Q158.612 1123 154.607 1123 Q152.732 1123 150.857 1123.41 Q149.005 1123.83 147.061 1124.71 L147.061 1107.35 Z\" fill=\"#000000\" fill-rule=\"nonzero\" fill-opacity=\"1\" /><path clip-path=\"url(#clip990)\" d=\"M116.668 878.362 L124.306 878.362 L124.306 851.996 L115.996 853.663 L115.996 849.404 L124.26 847.737 L128.936 847.737 L128.936 878.362 L136.575 878.362 L136.575 882.297 L116.668 882.297 L116.668 878.362 Z\" fill=\"#000000\" fill-rule=\"nonzero\" fill-opacity=\"1\" /><path clip-path=\"url(#clip990)\" d=\"M156.019 850.816 Q152.408 850.816 150.579 854.381 Q148.774 857.922 148.774 865.052 Q148.774 872.158 150.579 875.723 Q152.408 879.265 156.019 879.265 Q159.653 879.265 161.459 875.723 Q163.288 872.158 163.288 865.052 Q163.288 857.922 161.459 854.381 Q159.653 850.816 156.019 850.816 M156.019 847.112 Q161.829 847.112 164.885 851.719 Q167.964 856.302 167.964 865.052 Q167.964 873.779 164.885 878.385 Q161.829 882.969 156.019 882.969 Q150.209 882.969 147.13 878.385 Q144.075 873.779 144.075 865.052 Q144.075 856.302 147.13 851.719 Q150.209 847.112 156.019 847.112 Z\" fill=\"#000000\" fill-rule=\"nonzero\" fill-opacity=\"1\" /><path clip-path=\"url(#clip990)\" d=\"M117.663 618.752 L125.302 618.752 L125.302 592.386 L116.992 594.053 L116.992 589.793 L125.255 588.127 L129.931 588.127 L129.931 618.752 L137.57 618.752 L137.57 622.687 L117.663 622.687 L117.663 618.752 Z\" fill=\"#000000\" fill-rule=\"nonzero\" fill-opacity=\"1\" /><path clip-path=\"url(#clip990)\" d=\"M147.061 588.127 L165.417 588.127 L165.417 592.062 L151.343 592.062 L151.343 600.534 Q152.362 600.187 153.38 600.025 Q154.399 599.84 155.417 599.84 Q161.204 599.84 164.584 603.011 Q167.964 606.182 167.964 611.599 Q167.964 617.177 164.491 620.279 Q161.019 623.358 154.7 623.358 Q152.524 623.358 150.255 622.988 Q148.01 622.617 145.603 621.877 L145.603 617.177 Q147.686 618.312 149.908 618.867 Q152.13 619.423 154.607 619.423 Q158.612 619.423 160.95 617.316 Q163.288 615.21 163.288 611.599 Q163.288 607.988 160.95 605.881 Q158.612 603.775 154.607 603.775 Q152.732 603.775 150.857 604.191 Q149.005 604.608 147.061 605.488 L147.061 588.127 Z\" fill=\"#000000\" fill-rule=\"nonzero\" fill-opacity=\"1\" /><path clip-path=\"url(#clip990)\" d=\"M119.885 359.141 L136.204 359.141 L136.204 363.076 L114.26 363.076 L114.26 359.141 Q116.922 356.386 121.505 351.757 Q126.112 347.104 127.292 345.761 Q129.538 343.238 130.417 341.502 Q131.32 339.743 131.32 338.053 Q131.32 335.299 129.376 333.562 Q127.455 331.826 124.353 331.826 Q122.154 331.826 119.7 332.59 Q117.269 333.354 114.492 334.905 L114.492 330.183 Q117.316 329.049 119.769 328.47 Q122.223 327.891 124.26 327.891 Q129.63 327.891 132.825 330.576 Q136.019 333.262 136.019 337.752 Q136.019 339.882 135.209 341.803 Q134.422 343.701 132.316 346.294 Q131.737 346.965 128.635 350.183 Q125.533 353.377 119.885 359.141 Z\" fill=\"#000000\" fill-rule=\"nonzero\" fill-opacity=\"1\" /><path clip-path=\"url(#clip990)\" d=\"M156.019 331.595 Q152.408 331.595 150.579 335.16 Q148.774 338.701 148.774 345.831 Q148.774 352.937 150.579 356.502 Q152.408 360.044 156.019 360.044 Q159.653 360.044 161.459 356.502 Q163.288 352.937 163.288 345.831 Q163.288 338.701 161.459 335.16 Q159.653 331.595 156.019 331.595 M156.019 327.891 Q161.829 327.891 164.885 332.498 Q167.964 337.081 167.964 345.831 Q167.964 354.558 164.885 359.164 Q161.829 363.747 156.019 363.747 Q150.209 363.747 147.13 359.164 Q144.075 354.558 144.075 345.831 Q144.075 337.081 147.13 332.498 Q150.209 327.891 156.019 327.891 Z\" fill=\"#000000\" fill-rule=\"nonzero\" fill-opacity=\"1\" /><path clip-path=\"url(#clip990)\" d=\"M120.88 99.5305 L137.2 99.5305 L137.2 103.466 L115.256 103.466 L115.256 99.5305 Q117.918 96.7759 122.501 92.1463 Q127.107 87.4935 128.288 86.151 Q130.533 83.6278 131.413 81.8917 Q132.316 80.1325 132.316 78.4427 Q132.316 75.688 130.371 73.9519 Q128.45 72.2158 125.348 72.2158 Q123.149 72.2158 120.695 72.9797 Q118.265 73.7436 115.487 75.2945 L115.487 70.5723 Q118.311 69.4381 120.765 68.8594 Q123.218 68.2807 125.255 68.2807 Q130.626 68.2807 133.82 70.9658 Q137.015 73.651 137.015 78.1417 Q137.015 80.2714 136.204 82.1926 Q135.417 84.0908 133.311 86.6834 Q132.732 87.3546 129.63 90.5722 Q126.529 93.7667 120.88 99.5305 Z\" fill=\"#000000\" fill-rule=\"nonzero\" fill-opacity=\"1\" /><path clip-path=\"url(#clip990)\" d=\"M147.061 68.9057 L165.417 68.9057 L165.417 72.8408 L151.343 72.8408 L151.343 81.313 Q152.362 80.9658 153.38 80.8038 Q154.399 80.6186 155.417 80.6186 Q161.204 80.6186 164.584 83.7899 Q167.964 86.9611 167.964 92.3778 Q167.964 97.9564 164.491 101.058 Q161.019 104.137 154.7 104.137 Q152.524 104.137 150.255 103.767 Q148.01 103.396 145.603 102.655 L145.603 97.9564 Q147.686 99.0907 149.908 99.6462 Q152.13 100.202 154.607 100.202 Q158.612 100.202 160.95 98.0953 Q163.288 95.9889 163.288 92.3778 Q163.288 88.7667 160.95 86.6602 Q158.612 84.5537 154.607 84.5537 Q152.732 84.5537 150.857 84.9704 Q149.005 85.3871 147.061 86.2667 L147.061 68.9057 Z\" fill=\"#000000\" fill-rule=\"nonzero\" fill-opacity=\"1\" /><path clip-path=\"url(#clip990)\" d=\"M28.3562 858.786 L45.7028 871.677 L64.0042 858.118 L64.0042 865.025 L49.9996 875.401 L64.0042 885.777 L64.0042 892.684 L45.3526 878.838 L28.3562 891.506 L28.3562 884.599 L41.0558 875.146 L28.3562 865.693 L28.3562 858.786 Z\" fill=\"#000000\" fill-rule=\"nonzero\" fill-opacity=\"1\" /><path clip-path=\"url(#clip990)\" d=\"M29.4065 806.396 L34.9447 806.396 Q33.6716 808.879 33.035 811.553 Q32.3984 814.226 32.3984 817.091 Q32.3984 821.451 33.7352 823.648 Q35.072 825.812 37.7456 825.812 Q39.7826 825.812 40.9603 824.252 Q42.1061 822.693 43.1565 817.982 L43.6021 815.977 Q44.9389 809.738 47.3897 807.129 Q49.8086 804.487 54.1691 804.487 Q59.1344 804.487 62.0308 808.434 Q64.9272 812.348 64.9272 819.223 Q64.9272 822.088 64.3543 825.207 Q63.8132 828.295 62.6992 831.732 L56.6518 831.732 Q58.3387 828.485 59.198 825.334 Q60.0256 822.183 60.0256 819.096 Q60.0256 814.958 58.6251 812.73 Q57.1929 810.502 54.6147 810.502 Q52.2276 810.502 50.9545 812.126 Q49.6813 813.717 48.5037 819.16 L48.0262 821.197 Q46.8804 826.639 44.5251 829.058 Q42.138 831.477 38.0002 831.477 Q32.9713 831.477 30.2341 827.913 Q27.4968 824.348 27.4968 817.791 Q27.4968 814.545 27.9743 811.68 Q28.4517 808.815 29.4065 806.396 Z\" fill=\"#000000\" fill-rule=\"nonzero\" fill-opacity=\"1\" /><path clip-path=\"url(#clip990)\" d=\"M46.212 791.66 Q52.6732 791.66 56.3653 789.018 Q60.0256 786.345 60.0256 781.698 Q60.0256 777.051 56.3653 774.377 Q52.6732 771.703 46.212 771.703 Q39.7508 771.703 36.0905 774.377 Q32.3984 777.051 32.3984 781.698 Q32.3984 786.345 36.0905 789.018 Q39.7508 791.66 46.212 791.66 M58.657 771.703 Q61.8398 773.549 63.3994 776.382 Q64.9272 779.183 64.9272 783.13 Q64.9272 789.591 59.771 793.665 Q54.6147 797.707 46.212 797.707 Q37.8093 797.707 32.6531 793.665 Q27.4968 789.591 27.4968 783.13 Q27.4968 779.183 29.0564 776.382 Q30.5842 773.549 33.7671 771.703 L28.3562 771.703 L28.3562 765.847 L77.5631 765.847 L77.5631 771.703 L58.657 771.703 Z\" fill=\"#000000\" fill-rule=\"nonzero\" fill-opacity=\"1\" /><path clip-path=\"url(#clip990)\" d=\"M49.9359 754.389 L28.3562 754.389 L28.3562 748.532 L49.7131 748.532 Q54.7739 748.532 57.3202 746.559 Q59.8346 744.585 59.8346 740.639 Q59.8346 735.896 56.8109 733.159 Q53.7872 730.39 48.5673 730.39 L28.3562 730.39 L28.3562 724.533 L64.0042 724.533 L64.0042 730.39 L58.5296 730.39 Q61.7762 732.522 63.3676 735.355 Q64.9272 738.156 64.9272 741.88 Q64.9272 748.023 61.1078 751.206 Q57.2883 754.389 49.9359 754.389 M27.4968 739.652 L27.4968 739.652 Z\" fill=\"#000000\" fill-rule=\"nonzero\" fill-opacity=\"1\" /><path clip-path=\"url(#clip990)\" d=\"M46.0847 696.27 Q46.0847 703.368 47.7079 706.105 Q49.3312 708.842 53.2461 708.842 Q56.3653 708.842 58.2114 706.805 Q60.0256 704.736 60.0256 701.203 Q60.0256 696.333 56.5881 693.405 Q53.1188 690.445 47.3897 690.445 L46.0847 690.445 L46.0847 696.27 M43.6657 684.589 L64.0042 684.589 L64.0042 690.445 L58.5933 690.445 Q61.8398 692.45 63.3994 695.442 Q64.9272 698.434 64.9272 702.763 Q64.9272 708.237 61.8716 711.484 Q58.7843 714.698 53.6281 714.698 Q47.6125 714.698 44.5569 710.688 Q41.5014 706.646 41.5014 698.657 L41.5014 690.445 L40.9285 690.445 Q36.8862 690.445 34.6901 693.119 Q32.4621 695.761 32.4621 700.567 Q32.4621 703.622 33.1941 706.519 Q33.9262 709.415 35.3903 712.089 L29.9795 712.089 Q28.7381 708.874 28.1334 705.85 Q27.4968 702.826 27.4968 699.962 Q27.4968 692.228 31.5072 688.408 Q35.5176 684.589 43.6657 684.589 Z\" fill=\"#000000\" fill-rule=\"nonzero\" fill-opacity=\"1\" /><path clip-path=\"url(#clip990)\" d=\"M33.8307 651.869 Q33.2578 652.856 33.0032 654.033 Q32.7167 655.179 32.7167 656.58 Q32.7167 661.545 35.9632 664.218 Q39.1779 666.86 45.2253 666.86 L64.0042 666.86 L64.0042 672.748 L28.3562 672.748 L28.3562 666.86 L33.8944 666.86 Q30.6479 665.014 29.0883 662.054 Q27.4968 659.094 27.4968 654.861 Q27.4968 654.256 27.5923 653.524 Q27.656 652.792 27.8151 651.901 L33.8307 651.869 Z\" fill=\"#000000\" fill-rule=\"nonzero\" fill-opacity=\"1\" /><path clip-path=\"url(#clip990)\" d=\"M44.7161 616.667 L47.5806 616.667 L47.5806 643.594 Q53.6281 643.212 56.8109 639.965 Q59.9619 636.687 59.9619 630.862 Q59.9619 627.488 59.1344 624.337 Q58.3069 621.154 56.6518 618.035 L62.1899 618.035 Q63.5267 621.186 64.227 624.496 Q64.9272 627.807 64.9272 631.212 Q64.9272 639.742 59.9619 644.739 Q54.9967 649.705 46.5303 649.705 Q37.7774 649.705 32.6531 644.994 Q27.4968 640.252 27.4968 632.231 Q27.4968 625.038 32.1438 620.868 Q36.7589 616.667 44.7161 616.667 M42.9973 622.523 Q38.1912 622.587 35.3266 625.228 Q32.4621 627.838 32.4621 632.167 Q32.4621 637.069 35.2312 640.029 Q38.0002 642.957 43.0292 643.403 L42.9973 622.523 Z\" fill=\"#000000\" fill-rule=\"nonzero\" fill-opacity=\"1\" /><path clip-path=\"url(#clip990)\" d=\"M33.7671 583.597 L14.479 583.597 L14.479 577.74 L64.0042 577.74 L64.0042 583.597 L58.657 583.597 Q61.8398 585.443 63.3994 588.276 Q64.9272 591.076 64.9272 595.023 Q64.9272 601.484 59.771 605.558 Q54.6147 609.601 46.212 609.601 Q37.8093 609.601 32.6531 605.558 Q27.4968 601.484 27.4968 595.023 Q27.4968 591.076 29.0564 588.276 Q30.5842 585.443 33.7671 583.597 M46.212 603.553 Q52.6732 603.553 56.3653 600.911 Q60.0256 598.238 60.0256 593.591 Q60.0256 588.944 56.3653 586.27 Q52.6732 583.597 46.212 583.597 Q39.7508 583.597 36.0905 586.27 Q32.3984 588.944 32.3984 593.591 Q32.3984 598.238 36.0905 600.911 Q39.7508 603.553 46.212 603.553 Z\" fill=\"#000000\" fill-rule=\"nonzero\" fill-opacity=\"1\" /><polyline clip-path=\"url(#clip992)\" style=\"stroke:#009af9; stroke-linecap:round; stroke-linejoin:round; stroke-width:4; stroke-opacity:1; fill:none\" points=\"264.778,86.1857 467.495,553.485 670.211,916.939 872.927,1176.55 1075.64,1332.32 1278.36,1384.24 1481.08,1332.32 1683.79,1176.55 1886.51,916.939 2089.22,553.485 2291.94,86.1857 \"/>\n",
              "<path clip-path=\"url(#clip990)\" d=\"M1837.2 1377.32 L2281.13 1377.32 L2281.13 1273.64 L1837.2 1273.64  Z\" fill=\"#ffffff\" fill-rule=\"evenodd\" fill-opacity=\"1\"/>\n",
              "<polyline clip-path=\"url(#clip990)\" style=\"stroke:#000000; stroke-linecap:round; stroke-linejoin:round; stroke-width:4; stroke-opacity:1; fill:none\" points=\"1837.2,1377.32 2281.13,1377.32 2281.13,1273.64 1837.2,1273.64 1837.2,1377.32 \"/>\n",
              "<polyline clip-path=\"url(#clip990)\" style=\"stroke:#009af9; stroke-linecap:round; stroke-linejoin:round; stroke-width:4; stroke-opacity:1; fill:none\" points=\"1861.08,1325.48 2004.33,1325.48 \"/>\n",
              "<path clip-path=\"url(#clip990)\" d=\"M2052.86 1316.83 L2043.48 1329.45 L2053.34 1342.76 L2048.32 1342.76 L2040.77 1332.57 L2033.23 1342.76 L2028.2 1342.76 L2038.27 1329.19 L2029.06 1316.83 L2034.08 1316.83 L2040.96 1326.07 L2047.83 1316.83 L2052.86 1316.83 Z\" fill=\"#000000\" fill-rule=\"nonzero\" fill-opacity=\"1\" /><path clip-path=\"url(#clip990)\" d=\"M2090.96 1317.59 L2090.96 1321.62 Q2089.15 1320.7 2087.21 1320.23 Q2085.26 1319.77 2083.18 1319.77 Q2080.01 1319.77 2078.41 1320.74 Q2076.84 1321.71 2076.84 1323.66 Q2076.84 1325.14 2077.97 1326 Q2079.11 1326.83 2082.53 1327.59 L2083.99 1327.92 Q2088.53 1328.89 2090.43 1330.67 Q2092.35 1332.43 2092.35 1335.6 Q2092.35 1339.21 2089.48 1341.32 Q2086.63 1343.43 2081.63 1343.43 Q2079.55 1343.43 2077.28 1343.01 Q2075.03 1342.62 2072.53 1341.81 L2072.53 1337.41 Q2074.89 1338.63 2077.19 1339.26 Q2079.48 1339.86 2081.72 1339.86 Q2084.73 1339.86 2086.35 1338.84 Q2087.97 1337.8 2087.97 1335.93 Q2087.97 1334.19 2086.79 1333.26 Q2085.63 1332.34 2081.68 1331.48 L2080.19 1331.14 Q2076.24 1330.3 2074.48 1328.59 Q2072.72 1326.85 2072.72 1323.84 Q2072.72 1320.19 2075.31 1318.2 Q2077.9 1316.2 2082.67 1316.2 Q2085.03 1316.2 2087.12 1316.55 Q2089.2 1316.9 2090.96 1317.59 Z\" fill=\"#000000\" fill-rule=\"nonzero\" fill-opacity=\"1\" /><path clip-path=\"url(#clip990)\" d=\"M2101.68 1329.82 Q2101.68 1334.51 2103.6 1337.2 Q2105.54 1339.86 2108.92 1339.86 Q2112.3 1339.86 2114.25 1337.2 Q2116.19 1334.51 2116.19 1329.82 Q2116.19 1325.12 2114.25 1322.45 Q2112.3 1319.77 2108.92 1319.77 Q2105.54 1319.77 2103.6 1322.45 Q2101.68 1325.12 2101.68 1329.82 M2116.19 1338.87 Q2114.85 1341.18 2112.79 1342.32 Q2110.75 1343.43 2107.88 1343.43 Q2103.18 1343.43 2100.22 1339.68 Q2097.28 1335.93 2097.28 1329.82 Q2097.28 1323.7 2100.22 1319.95 Q2103.18 1316.2 2107.88 1316.2 Q2110.75 1316.2 2112.79 1317.34 Q2114.85 1318.45 2116.19 1320.76 L2116.19 1316.83 L2120.45 1316.83 L2120.45 1352.62 L2116.19 1352.62 L2116.19 1338.87 Z\" fill=\"#000000\" fill-rule=\"nonzero\" fill-opacity=\"1\" /><path clip-path=\"url(#clip990)\" d=\"M2128.78 1332.52 L2128.78 1316.83 L2133.04 1316.83 L2133.04 1332.36 Q2133.04 1336.04 2134.48 1337.89 Q2135.91 1339.72 2138.78 1339.72 Q2142.23 1339.72 2144.22 1337.52 Q2146.24 1335.32 2146.24 1331.53 L2146.24 1316.83 L2150.5 1316.83 L2150.5 1342.76 L2146.24 1342.76 L2146.24 1338.77 Q2144.69 1341.13 2142.63 1342.29 Q2140.59 1343.43 2137.88 1343.43 Q2133.41 1343.43 2131.1 1340.65 Q2128.78 1337.87 2128.78 1332.52 M2139.5 1316.2 L2139.5 1316.2 Z\" fill=\"#000000\" fill-rule=\"nonzero\" fill-opacity=\"1\" /><path clip-path=\"url(#clip990)\" d=\"M2171.05 1329.72 Q2165.89 1329.72 2163.9 1330.9 Q2161.91 1332.08 2161.91 1334.93 Q2161.91 1337.2 2163.39 1338.54 Q2164.89 1339.86 2167.46 1339.86 Q2171 1339.86 2173.13 1337.36 Q2175.29 1334.84 2175.29 1330.67 L2175.29 1329.72 L2171.05 1329.72 M2179.55 1327.96 L2179.55 1342.76 L2175.29 1342.76 L2175.29 1338.82 Q2173.83 1341.18 2171.65 1342.32 Q2169.48 1343.43 2166.33 1343.43 Q2162.35 1343.43 2159.99 1341.2 Q2157.65 1338.96 2157.65 1335.21 Q2157.65 1330.83 2160.56 1328.61 Q2163.5 1326.39 2169.31 1326.39 L2175.29 1326.39 L2175.29 1325.97 Q2175.29 1323.03 2173.34 1321.44 Q2171.42 1319.82 2167.93 1319.82 Q2165.7 1319.82 2163.6 1320.35 Q2161.49 1320.88 2159.55 1321.95 L2159.55 1318.01 Q2161.88 1317.11 2164.08 1316.67 Q2166.28 1316.2 2168.37 1316.2 Q2173.99 1316.2 2176.77 1319.12 Q2179.55 1322.04 2179.55 1327.96 Z\" fill=\"#000000\" fill-rule=\"nonzero\" fill-opacity=\"1\" /><path clip-path=\"url(#clip990)\" d=\"M2203.34 1320.81 Q2202.62 1320.39 2201.77 1320.21 Q2200.93 1320 2199.92 1320 Q2196.31 1320 2194.36 1322.36 Q2192.44 1324.7 2192.44 1329.1 L2192.44 1342.76 L2188.16 1342.76 L2188.16 1316.83 L2192.44 1316.83 L2192.44 1320.86 Q2193.78 1318.5 2195.93 1317.36 Q2198.09 1316.2 2201.17 1316.2 Q2201.61 1316.2 2202.14 1316.27 Q2202.67 1316.32 2203.32 1316.44 L2203.34 1320.81 Z\" fill=\"#000000\" fill-rule=\"nonzero\" fill-opacity=\"1\" /><path clip-path=\"url(#clip990)\" d=\"M2228.94 1328.73 L2228.94 1330.81 L2209.36 1330.81 Q2209.64 1335.21 2212 1337.52 Q2214.38 1339.82 2218.62 1339.82 Q2221.07 1339.82 2223.37 1339.21 Q2225.68 1338.61 2227.95 1337.41 L2227.95 1341.44 Q2225.66 1342.41 2223.25 1342.92 Q2220.84 1343.43 2218.37 1343.43 Q2212.16 1343.43 2208.53 1339.82 Q2204.92 1336.2 2204.92 1330.05 Q2204.92 1323.68 2208.34 1319.95 Q2211.79 1316.2 2217.62 1316.2 Q2222.86 1316.2 2225.89 1319.58 Q2228.94 1322.94 2228.94 1328.73 M2224.68 1327.48 Q2224.64 1323.98 2222.72 1321.9 Q2220.82 1319.82 2217.67 1319.82 Q2214.11 1319.82 2211.95 1321.83 Q2209.82 1323.84 2209.5 1327.5 L2224.68 1327.48 Z\" fill=\"#000000\" fill-rule=\"nonzero\" fill-opacity=\"1\" /><path clip-path=\"url(#clip990)\" d=\"M2252.99 1320.76 L2252.99 1306.74 L2257.25 1306.74 L2257.25 1342.76 L2252.99 1342.76 L2252.99 1338.87 Q2251.65 1341.18 2249.59 1342.32 Q2247.56 1343.43 2244.68 1343.43 Q2239.99 1343.43 2237.02 1339.68 Q2234.08 1335.93 2234.08 1329.82 Q2234.08 1323.7 2237.02 1319.95 Q2239.99 1316.2 2244.68 1316.2 Q2247.56 1316.2 2249.59 1317.34 Q2251.65 1318.45 2252.99 1320.76 M2238.48 1329.82 Q2238.48 1334.51 2240.4 1337.2 Q2242.35 1339.86 2245.73 1339.86 Q2249.11 1339.86 2251.05 1337.2 Q2252.99 1334.51 2252.99 1329.82 Q2252.99 1325.12 2251.05 1322.45 Q2249.11 1319.77 2245.73 1319.77 Q2242.35 1319.77 2240.4 1322.45 Q2238.48 1325.12 2238.48 1329.82 Z\" fill=\"#000000\" fill-rule=\"nonzero\" fill-opacity=\"1\" /></svg>\n"
            ],
            "text/html": [
              "<?xml version=\"1.0\" encoding=\"utf-8\"?>\n",
              "<svg xmlns=\"http://www.w3.org/2000/svg\" xmlns:xlink=\"http://www.w3.org/1999/xlink\" width=\"600\" height=\"400\" viewBox=\"0 0 2400 1600\">\n",
              "<defs>\n",
              "  <clipPath id=\"clip040\">\n",
              "    <rect x=\"0\" y=\"0\" width=\"2400\" height=\"1600\"/>\n",
              "  </clipPath>\n",
              "</defs>\n",
              "<path clip-path=\"url(#clip040)\" d=\"M0 1600 L2400 1600 L2400 8.88178e-14 L0 8.88178e-14  Z\" fill=\"#ffffff\" fill-rule=\"evenodd\" fill-opacity=\"1\"/>\n",
              "<defs>\n",
              "  <clipPath id=\"clip041\">\n",
              "    <rect x=\"480\" y=\"0\" width=\"1681\" height=\"1600\"/>\n",
              "  </clipPath>\n",
              "</defs>\n",
              "<path clip-path=\"url(#clip040)\" d=\"M203.964 1423.18 L2352.76 1423.18 L2352.76 47.2441 L203.964 47.2441  Z\" fill=\"#ffffff\" fill-rule=\"evenodd\" fill-opacity=\"1\"/>\n",
              "<defs>\n",
              "  <clipPath id=\"clip042\">\n",
              "    <rect x=\"203\" y=\"47\" width=\"2150\" height=\"1377\"/>\n",
              "  </clipPath>\n",
              "</defs>\n",
              "<polyline clip-path=\"url(#clip042)\" style=\"stroke:#000000; stroke-linecap:round; stroke-linejoin:round; stroke-width:2; stroke-opacity:0.1; fill:none\" points=\"467.495,1423.18 467.495,47.2441 \"/>\n",
              "<polyline clip-path=\"url(#clip042)\" style=\"stroke:#000000; stroke-linecap:round; stroke-linejoin:round; stroke-width:2; stroke-opacity:0.1; fill:none\" points=\"872.927,1423.18 872.927,47.2441 \"/>\n",
              "<polyline clip-path=\"url(#clip042)\" style=\"stroke:#000000; stroke-linecap:round; stroke-linejoin:round; stroke-width:2; stroke-opacity:0.1; fill:none\" points=\"1278.36,1423.18 1278.36,47.2441 \"/>\n",
              "<polyline clip-path=\"url(#clip042)\" style=\"stroke:#000000; stroke-linecap:round; stroke-linejoin:round; stroke-width:2; stroke-opacity:0.1; fill:none\" points=\"1683.79,1423.18 1683.79,47.2441 \"/>\n",
              "<polyline clip-path=\"url(#clip042)\" style=\"stroke:#000000; stroke-linecap:round; stroke-linejoin:round; stroke-width:2; stroke-opacity:0.1; fill:none\" points=\"2089.22,1423.18 2089.22,47.2441 \"/>\n",
              "<polyline clip-path=\"url(#clip040)\" style=\"stroke:#000000; stroke-linecap:round; stroke-linejoin:round; stroke-width:4; stroke-opacity:1; fill:none\" points=\"203.964,1423.18 2352.76,1423.18 \"/>\n",
              "<polyline clip-path=\"url(#clip040)\" style=\"stroke:#000000; stroke-linecap:round; stroke-linejoin:round; stroke-width:4; stroke-opacity:1; fill:none\" points=\"467.495,1423.18 467.495,1404.28 \"/>\n",
              "<polyline clip-path=\"url(#clip040)\" style=\"stroke:#000000; stroke-linecap:round; stroke-linejoin:round; stroke-width:4; stroke-opacity:1; fill:none\" points=\"872.927,1423.18 872.927,1404.28 \"/>\n",
              "<polyline clip-path=\"url(#clip040)\" style=\"stroke:#000000; stroke-linecap:round; stroke-linejoin:round; stroke-width:4; stroke-opacity:1; fill:none\" points=\"1278.36,1423.18 1278.36,1404.28 \"/>\n",
              "<polyline clip-path=\"url(#clip040)\" style=\"stroke:#000000; stroke-linecap:round; stroke-linejoin:round; stroke-width:4; stroke-opacity:1; fill:none\" points=\"1683.79,1423.18 1683.79,1404.28 \"/>\n",
              "<polyline clip-path=\"url(#clip040)\" style=\"stroke:#000000; stroke-linecap:round; stroke-linejoin:round; stroke-width:4; stroke-opacity:1; fill:none\" points=\"2089.22,1423.18 2089.22,1404.28 \"/>\n",
              "<path clip-path=\"url(#clip040)\" d=\"M436.395 1468.75 L466.071 1468.75 L466.071 1472.69 L436.395 1472.69 L436.395 1468.75 Z\" fill=\"#000000\" fill-rule=\"nonzero\" fill-opacity=\"1\" /><path clip-path=\"url(#clip040)\" d=\"M489.011 1455.09 L477.205 1473.54 L489.011 1473.54 L489.011 1455.09 M487.784 1451.02 L493.664 1451.02 L493.664 1473.54 L498.594 1473.54 L498.594 1477.43 L493.664 1477.43 L493.664 1485.58 L489.011 1485.58 L489.011 1477.43 L473.409 1477.43 L473.409 1472.92 L487.784 1451.02 Z\" fill=\"#000000\" fill-rule=\"nonzero\" fill-opacity=\"1\" /><path clip-path=\"url(#clip040)\" d=\"M842.87 1468.75 L872.545 1468.75 L872.545 1472.69 L842.87 1472.69 L842.87 1468.75 Z\" fill=\"#000000\" fill-rule=\"nonzero\" fill-opacity=\"1\" /><path clip-path=\"url(#clip040)\" d=\"M886.666 1481.64 L902.985 1481.64 L902.985 1485.58 L881.041 1485.58 L881.041 1481.64 Q883.703 1478.89 888.286 1474.26 Q892.892 1469.61 894.073 1468.27 Q896.318 1465.74 897.198 1464.01 Q898.101 1462.25 898.101 1460.56 Q898.101 1457.8 896.156 1456.07 Q894.235 1454.33 891.133 1454.33 Q888.934 1454.33 886.48 1455.09 Q884.05 1455.86 881.272 1457.41 L881.272 1452.69 Q884.096 1451.55 886.55 1450.97 Q889.004 1450.39 891.041 1450.39 Q896.411 1450.39 899.605 1453.08 Q902.8 1455.77 902.8 1460.26 Q902.8 1462.39 901.99 1464.31 Q901.203 1466.2 899.096 1468.8 Q898.517 1469.47 895.416 1472.69 Q892.314 1475.88 886.666 1481.64 Z\" fill=\"#000000\" fill-rule=\"nonzero\" fill-opacity=\"1\" /><path clip-path=\"url(#clip040)\" d=\"M1278.36 1454.1 Q1274.75 1454.1 1272.92 1457.66 Q1271.11 1461.2 1271.11 1468.33 Q1271.11 1475.44 1272.92 1479.01 Q1274.75 1482.55 1278.36 1482.55 Q1281.99 1482.55 1283.8 1479.01 Q1285.63 1475.44 1285.63 1468.33 Q1285.63 1461.2 1283.8 1457.66 Q1281.99 1454.1 1278.36 1454.1 M1278.36 1450.39 Q1284.17 1450.39 1287.23 1455 Q1290.3 1459.58 1290.3 1468.33 Q1290.3 1477.06 1287.23 1481.67 Q1284.17 1486.25 1278.36 1486.25 Q1272.55 1486.25 1269.47 1481.67 Q1266.42 1477.06 1266.42 1468.33 Q1266.42 1459.58 1269.47 1455 Q1272.55 1450.39 1278.36 1450.39 Z\" fill=\"#000000\" fill-rule=\"nonzero\" fill-opacity=\"1\" /><path clip-path=\"url(#clip040)\" d=\"M1678.45 1481.64 L1694.76 1481.64 L1694.76 1485.58 L1672.82 1485.58 L1672.82 1481.64 Q1675.48 1478.89 1680.07 1474.26 Q1684.67 1469.61 1685.85 1468.27 Q1688.1 1465.74 1688.98 1464.01 Q1689.88 1462.25 1689.88 1460.56 Q1689.88 1457.8 1687.94 1456.07 Q1686.01 1454.33 1682.91 1454.33 Q1680.71 1454.33 1678.26 1455.09 Q1675.83 1455.86 1673.05 1457.41 L1673.05 1452.69 Q1675.88 1451.55 1678.33 1450.97 Q1680.78 1450.39 1682.82 1450.39 Q1688.19 1450.39 1691.38 1453.08 Q1694.58 1455.77 1694.58 1460.26 Q1694.58 1462.39 1693.77 1464.31 Q1692.98 1466.2 1690.88 1468.8 Q1690.3 1469.47 1687.2 1472.69 Q1684.09 1475.88 1678.45 1481.64 Z\" fill=\"#000000\" fill-rule=\"nonzero\" fill-opacity=\"1\" /><path clip-path=\"url(#clip040)\" d=\"M2092.23 1455.09 L2080.43 1473.54 L2092.23 1473.54 L2092.23 1455.09 M2091.01 1451.02 L2096.89 1451.02 L2096.89 1473.54 L2101.82 1473.54 L2101.82 1477.43 L2096.89 1477.43 L2096.89 1485.58 L2092.23 1485.58 L2092.23 1477.43 L2076.63 1477.43 L2076.63 1472.92 L2091.01 1451.02 Z\" fill=\"#000000\" fill-rule=\"nonzero\" fill-opacity=\"1\" /><path clip-path=\"url(#clip040)\" d=\"M1294.97 1532.4 L1282.08 1549.74 L1295.64 1568.04 L1288.74 1568.04 L1278.36 1554.04 L1267.98 1568.04 L1261.08 1568.04 L1274.92 1549.39 L1262.25 1532.4 L1269.16 1532.4 L1278.61 1545.1 L1288.07 1532.4 L1294.97 1532.4 Z\" fill=\"#000000\" fill-rule=\"nonzero\" fill-opacity=\"1\" /><polyline clip-path=\"url(#clip042)\" style=\"stroke:#000000; stroke-linecap:round; stroke-linejoin:round; stroke-width:2; stroke-opacity:0.1; fill:none\" points=\"203.964,1384.24 2352.76,1384.24 \"/>\n",
              "<polyline clip-path=\"url(#clip042)\" style=\"stroke:#000000; stroke-linecap:round; stroke-linejoin:round; stroke-width:2; stroke-opacity:0.1; fill:none\" points=\"203.964,1124.63 2352.76,1124.63 \"/>\n",
              "<polyline clip-path=\"url(#clip042)\" style=\"stroke:#000000; stroke-linecap:round; stroke-linejoin:round; stroke-width:2; stroke-opacity:0.1; fill:none\" points=\"203.964,865.017 2352.76,865.017 \"/>\n",
              "<polyline clip-path=\"url(#clip042)\" style=\"stroke:#000000; stroke-linecap:round; stroke-linejoin:round; stroke-width:2; stroke-opacity:0.1; fill:none\" points=\"203.964,605.407 2352.76,605.407 \"/>\n",
              "<polyline clip-path=\"url(#clip042)\" style=\"stroke:#000000; stroke-linecap:round; stroke-linejoin:round; stroke-width:2; stroke-opacity:0.1; fill:none\" points=\"203.964,345.796 2352.76,345.796 \"/>\n",
              "<polyline clip-path=\"url(#clip042)\" style=\"stroke:#000000; stroke-linecap:round; stroke-linejoin:round; stroke-width:2; stroke-opacity:0.1; fill:none\" points=\"203.964,86.1857 2352.76,86.1857 \"/>\n",
              "<polyline clip-path=\"url(#clip040)\" style=\"stroke:#000000; stroke-linecap:round; stroke-linejoin:round; stroke-width:4; stroke-opacity:1; fill:none\" points=\"203.964,1423.18 203.964,47.2441 \"/>\n",
              "<polyline clip-path=\"url(#clip040)\" style=\"stroke:#000000; stroke-linecap:round; stroke-linejoin:round; stroke-width:4; stroke-opacity:1; fill:none\" points=\"203.964,1384.24 222.861,1384.24 \"/>\n",
              "<polyline clip-path=\"url(#clip040)\" style=\"stroke:#000000; stroke-linecap:round; stroke-linejoin:round; stroke-width:4; stroke-opacity:1; fill:none\" points=\"203.964,1124.63 222.861,1124.63 \"/>\n",
              "<polyline clip-path=\"url(#clip040)\" style=\"stroke:#000000; stroke-linecap:round; stroke-linejoin:round; stroke-width:4; stroke-opacity:1; fill:none\" points=\"203.964,865.017 222.861,865.017 \"/>\n",
              "<polyline clip-path=\"url(#clip040)\" style=\"stroke:#000000; stroke-linecap:round; stroke-linejoin:round; stroke-width:4; stroke-opacity:1; fill:none\" points=\"203.964,605.407 222.861,605.407 \"/>\n",
              "<polyline clip-path=\"url(#clip040)\" style=\"stroke:#000000; stroke-linecap:round; stroke-linejoin:round; stroke-width:4; stroke-opacity:1; fill:none\" points=\"203.964,345.796 222.861,345.796 \"/>\n",
              "<polyline clip-path=\"url(#clip040)\" style=\"stroke:#000000; stroke-linecap:round; stroke-linejoin:round; stroke-width:4; stroke-opacity:1; fill:none\" points=\"203.964,86.1857 222.861,86.1857 \"/>\n",
              "<path clip-path=\"url(#clip040)\" d=\"M156.019 1370.04 Q152.408 1370.04 150.579 1373.6 Q148.774 1377.14 148.774 1384.27 Q148.774 1391.38 150.579 1394.94 Q152.408 1398.49 156.019 1398.49 Q159.653 1398.49 161.459 1394.94 Q163.288 1391.38 163.288 1384.27 Q163.288 1377.14 161.459 1373.6 Q159.653 1370.04 156.019 1370.04 M156.019 1366.33 Q161.829 1366.33 164.885 1370.94 Q167.964 1375.52 167.964 1384.27 Q167.964 1393 164.885 1397.61 Q161.829 1402.19 156.019 1402.19 Q150.209 1402.19 147.13 1397.61 Q144.075 1393 144.075 1384.27 Q144.075 1375.52 147.13 1370.94 Q150.209 1366.33 156.019 1366.33 Z\" fill=\"#000000\" fill-rule=\"nonzero\" fill-opacity=\"1\" /><path clip-path=\"url(#clip040)\" d=\"M147.061 1107.35 L165.417 1107.35 L165.417 1111.28 L151.343 1111.28 L151.343 1119.76 Q152.362 1119.41 153.38 1119.25 Q154.399 1119.06 155.417 1119.06 Q161.204 1119.06 164.584 1122.23 Q167.964 1125.4 167.964 1130.82 Q167.964 1136.4 164.491 1139.5 Q161.019 1142.58 154.7 1142.58 Q152.524 1142.58 150.255 1142.21 Q148.01 1141.84 145.603 1141.1 L145.603 1136.4 Q147.686 1137.53 149.908 1138.09 Q152.13 1138.64 154.607 1138.64 Q158.612 1138.64 160.95 1136.54 Q163.288 1134.43 163.288 1130.82 Q163.288 1127.21 160.95 1125.1 Q158.612 1123 154.607 1123 Q152.732 1123 150.857 1123.41 Q149.005 1123.83 147.061 1124.71 L147.061 1107.35 Z\" fill=\"#000000\" fill-rule=\"nonzero\" fill-opacity=\"1\" /><path clip-path=\"url(#clip040)\" d=\"M116.668 878.362 L124.306 878.362 L124.306 851.996 L115.996 853.663 L115.996 849.404 L124.26 847.737 L128.936 847.737 L128.936 878.362 L136.575 878.362 L136.575 882.297 L116.668 882.297 L116.668 878.362 Z\" fill=\"#000000\" fill-rule=\"nonzero\" fill-opacity=\"1\" /><path clip-path=\"url(#clip040)\" d=\"M156.019 850.816 Q152.408 850.816 150.579 854.381 Q148.774 857.922 148.774 865.052 Q148.774 872.158 150.579 875.723 Q152.408 879.265 156.019 879.265 Q159.653 879.265 161.459 875.723 Q163.288 872.158 163.288 865.052 Q163.288 857.922 161.459 854.381 Q159.653 850.816 156.019 850.816 M156.019 847.112 Q161.829 847.112 164.885 851.719 Q167.964 856.302 167.964 865.052 Q167.964 873.779 164.885 878.385 Q161.829 882.969 156.019 882.969 Q150.209 882.969 147.13 878.385 Q144.075 873.779 144.075 865.052 Q144.075 856.302 147.13 851.719 Q150.209 847.112 156.019 847.112 Z\" fill=\"#000000\" fill-rule=\"nonzero\" fill-opacity=\"1\" /><path clip-path=\"url(#clip040)\" d=\"M117.663 618.752 L125.302 618.752 L125.302 592.386 L116.992 594.053 L116.992 589.793 L125.255 588.127 L129.931 588.127 L129.931 618.752 L137.57 618.752 L137.57 622.687 L117.663 622.687 L117.663 618.752 Z\" fill=\"#000000\" fill-rule=\"nonzero\" fill-opacity=\"1\" /><path clip-path=\"url(#clip040)\" d=\"M147.061 588.127 L165.417 588.127 L165.417 592.062 L151.343 592.062 L151.343 600.534 Q152.362 600.187 153.38 600.025 Q154.399 599.84 155.417 599.84 Q161.204 599.84 164.584 603.011 Q167.964 606.182 167.964 611.599 Q167.964 617.177 164.491 620.279 Q161.019 623.358 154.7 623.358 Q152.524 623.358 150.255 622.988 Q148.01 622.617 145.603 621.877 L145.603 617.177 Q147.686 618.312 149.908 618.867 Q152.13 619.423 154.607 619.423 Q158.612 619.423 160.95 617.316 Q163.288 615.21 163.288 611.599 Q163.288 607.988 160.95 605.881 Q158.612 603.775 154.607 603.775 Q152.732 603.775 150.857 604.191 Q149.005 604.608 147.061 605.488 L147.061 588.127 Z\" fill=\"#000000\" fill-rule=\"nonzero\" fill-opacity=\"1\" /><path clip-path=\"url(#clip040)\" d=\"M119.885 359.141 L136.204 359.141 L136.204 363.076 L114.26 363.076 L114.26 359.141 Q116.922 356.386 121.505 351.757 Q126.112 347.104 127.292 345.761 Q129.538 343.238 130.417 341.502 Q131.32 339.743 131.32 338.053 Q131.32 335.299 129.376 333.562 Q127.455 331.826 124.353 331.826 Q122.154 331.826 119.7 332.59 Q117.269 333.354 114.492 334.905 L114.492 330.183 Q117.316 329.049 119.769 328.47 Q122.223 327.891 124.26 327.891 Q129.63 327.891 132.825 330.576 Q136.019 333.262 136.019 337.752 Q136.019 339.882 135.209 341.803 Q134.422 343.701 132.316 346.294 Q131.737 346.965 128.635 350.183 Q125.533 353.377 119.885 359.141 Z\" fill=\"#000000\" fill-rule=\"nonzero\" fill-opacity=\"1\" /><path clip-path=\"url(#clip040)\" d=\"M156.019 331.595 Q152.408 331.595 150.579 335.16 Q148.774 338.701 148.774 345.831 Q148.774 352.937 150.579 356.502 Q152.408 360.044 156.019 360.044 Q159.653 360.044 161.459 356.502 Q163.288 352.937 163.288 345.831 Q163.288 338.701 161.459 335.16 Q159.653 331.595 156.019 331.595 M156.019 327.891 Q161.829 327.891 164.885 332.498 Q167.964 337.081 167.964 345.831 Q167.964 354.558 164.885 359.164 Q161.829 363.747 156.019 363.747 Q150.209 363.747 147.13 359.164 Q144.075 354.558 144.075 345.831 Q144.075 337.081 147.13 332.498 Q150.209 327.891 156.019 327.891 Z\" fill=\"#000000\" fill-rule=\"nonzero\" fill-opacity=\"1\" /><path clip-path=\"url(#clip040)\" d=\"M120.88 99.5305 L137.2 99.5305 L137.2 103.466 L115.256 103.466 L115.256 99.5305 Q117.918 96.7759 122.501 92.1463 Q127.107 87.4935 128.288 86.151 Q130.533 83.6278 131.413 81.8917 Q132.316 80.1325 132.316 78.4427 Q132.316 75.688 130.371 73.9519 Q128.45 72.2158 125.348 72.2158 Q123.149 72.2158 120.695 72.9797 Q118.265 73.7436 115.487 75.2945 L115.487 70.5723 Q118.311 69.4381 120.765 68.8594 Q123.218 68.2807 125.255 68.2807 Q130.626 68.2807 133.82 70.9658 Q137.015 73.651 137.015 78.1417 Q137.015 80.2714 136.204 82.1926 Q135.417 84.0908 133.311 86.6834 Q132.732 87.3546 129.63 90.5722 Q126.529 93.7667 120.88 99.5305 Z\" fill=\"#000000\" fill-rule=\"nonzero\" fill-opacity=\"1\" /><path clip-path=\"url(#clip040)\" d=\"M147.061 68.9057 L165.417 68.9057 L165.417 72.8408 L151.343 72.8408 L151.343 81.313 Q152.362 80.9658 153.38 80.8038 Q154.399 80.6186 155.417 80.6186 Q161.204 80.6186 164.584 83.7899 Q167.964 86.9611 167.964 92.3778 Q167.964 97.9564 164.491 101.058 Q161.019 104.137 154.7 104.137 Q152.524 104.137 150.255 103.767 Q148.01 103.396 145.603 102.655 L145.603 97.9564 Q147.686 99.0907 149.908 99.6462 Q152.13 100.202 154.607 100.202 Q158.612 100.202 160.95 98.0953 Q163.288 95.9889 163.288 92.3778 Q163.288 88.7667 160.95 86.6602 Q158.612 84.5537 154.607 84.5537 Q152.732 84.5537 150.857 84.9704 Q149.005 85.3871 147.061 86.2667 L147.061 68.9057 Z\" fill=\"#000000\" fill-rule=\"nonzero\" fill-opacity=\"1\" /><path clip-path=\"url(#clip040)\" d=\"M28.3562 858.786 L45.7028 871.677 L64.0042 858.118 L64.0042 865.025 L49.9996 875.401 L64.0042 885.777 L64.0042 892.684 L45.3526 878.838 L28.3562 891.506 L28.3562 884.599 L41.0558 875.146 L28.3562 865.693 L28.3562 858.786 Z\" fill=\"#000000\" fill-rule=\"nonzero\" fill-opacity=\"1\" /><path clip-path=\"url(#clip040)\" d=\"M29.4065 806.396 L34.9447 806.396 Q33.6716 808.879 33.035 811.553 Q32.3984 814.226 32.3984 817.091 Q32.3984 821.451 33.7352 823.648 Q35.072 825.812 37.7456 825.812 Q39.7826 825.812 40.9603 824.252 Q42.1061 822.693 43.1565 817.982 L43.6021 815.977 Q44.9389 809.738 47.3897 807.129 Q49.8086 804.487 54.1691 804.487 Q59.1344 804.487 62.0308 808.434 Q64.9272 812.348 64.9272 819.223 Q64.9272 822.088 64.3543 825.207 Q63.8132 828.295 62.6992 831.732 L56.6518 831.732 Q58.3387 828.485 59.198 825.334 Q60.0256 822.183 60.0256 819.096 Q60.0256 814.958 58.6251 812.73 Q57.1929 810.502 54.6147 810.502 Q52.2276 810.502 50.9545 812.126 Q49.6813 813.717 48.5037 819.16 L48.0262 821.197 Q46.8804 826.639 44.5251 829.058 Q42.138 831.477 38.0002 831.477 Q32.9713 831.477 30.2341 827.913 Q27.4968 824.348 27.4968 817.791 Q27.4968 814.545 27.9743 811.68 Q28.4517 808.815 29.4065 806.396 Z\" fill=\"#000000\" fill-rule=\"nonzero\" fill-opacity=\"1\" /><path clip-path=\"url(#clip040)\" d=\"M46.212 791.66 Q52.6732 791.66 56.3653 789.018 Q60.0256 786.345 60.0256 781.698 Q60.0256 777.051 56.3653 774.377 Q52.6732 771.703 46.212 771.703 Q39.7508 771.703 36.0905 774.377 Q32.3984 777.051 32.3984 781.698 Q32.3984 786.345 36.0905 789.018 Q39.7508 791.66 46.212 791.66 M58.657 771.703 Q61.8398 773.549 63.3994 776.382 Q64.9272 779.183 64.9272 783.13 Q64.9272 789.591 59.771 793.665 Q54.6147 797.707 46.212 797.707 Q37.8093 797.707 32.6531 793.665 Q27.4968 789.591 27.4968 783.13 Q27.4968 779.183 29.0564 776.382 Q30.5842 773.549 33.7671 771.703 L28.3562 771.703 L28.3562 765.847 L77.5631 765.847 L77.5631 771.703 L58.657 771.703 Z\" fill=\"#000000\" fill-rule=\"nonzero\" fill-opacity=\"1\" /><path clip-path=\"url(#clip040)\" d=\"M49.9359 754.389 L28.3562 754.389 L28.3562 748.532 L49.7131 748.532 Q54.7739 748.532 57.3202 746.559 Q59.8346 744.585 59.8346 740.639 Q59.8346 735.896 56.8109 733.159 Q53.7872 730.39 48.5673 730.39 L28.3562 730.39 L28.3562 724.533 L64.0042 724.533 L64.0042 730.39 L58.5296 730.39 Q61.7762 732.522 63.3676 735.355 Q64.9272 738.156 64.9272 741.88 Q64.9272 748.023 61.1078 751.206 Q57.2883 754.389 49.9359 754.389 M27.4968 739.652 L27.4968 739.652 Z\" fill=\"#000000\" fill-rule=\"nonzero\" fill-opacity=\"1\" /><path clip-path=\"url(#clip040)\" d=\"M46.0847 696.27 Q46.0847 703.368 47.7079 706.105 Q49.3312 708.842 53.2461 708.842 Q56.3653 708.842 58.2114 706.805 Q60.0256 704.736 60.0256 701.203 Q60.0256 696.333 56.5881 693.405 Q53.1188 690.445 47.3897 690.445 L46.0847 690.445 L46.0847 696.27 M43.6657 684.589 L64.0042 684.589 L64.0042 690.445 L58.5933 690.445 Q61.8398 692.45 63.3994 695.442 Q64.9272 698.434 64.9272 702.763 Q64.9272 708.237 61.8716 711.484 Q58.7843 714.698 53.6281 714.698 Q47.6125 714.698 44.5569 710.688 Q41.5014 706.646 41.5014 698.657 L41.5014 690.445 L40.9285 690.445 Q36.8862 690.445 34.6901 693.119 Q32.4621 695.761 32.4621 700.567 Q32.4621 703.622 33.1941 706.519 Q33.9262 709.415 35.3903 712.089 L29.9795 712.089 Q28.7381 708.874 28.1334 705.85 Q27.4968 702.826 27.4968 699.962 Q27.4968 692.228 31.5072 688.408 Q35.5176 684.589 43.6657 684.589 Z\" fill=\"#000000\" fill-rule=\"nonzero\" fill-opacity=\"1\" /><path clip-path=\"url(#clip040)\" d=\"M33.8307 651.869 Q33.2578 652.856 33.0032 654.033 Q32.7167 655.179 32.7167 656.58 Q32.7167 661.545 35.9632 664.218 Q39.1779 666.86 45.2253 666.86 L64.0042 666.86 L64.0042 672.748 L28.3562 672.748 L28.3562 666.86 L33.8944 666.86 Q30.6479 665.014 29.0883 662.054 Q27.4968 659.094 27.4968 654.861 Q27.4968 654.256 27.5923 653.524 Q27.656 652.792 27.8151 651.901 L33.8307 651.869 Z\" fill=\"#000000\" fill-rule=\"nonzero\" fill-opacity=\"1\" /><path clip-path=\"url(#clip040)\" d=\"M44.7161 616.667 L47.5806 616.667 L47.5806 643.594 Q53.6281 643.212 56.8109 639.965 Q59.9619 636.687 59.9619 630.862 Q59.9619 627.488 59.1344 624.337 Q58.3069 621.154 56.6518 618.035 L62.1899 618.035 Q63.5267 621.186 64.227 624.496 Q64.9272 627.807 64.9272 631.212 Q64.9272 639.742 59.9619 644.739 Q54.9967 649.705 46.5303 649.705 Q37.7774 649.705 32.6531 644.994 Q27.4968 640.252 27.4968 632.231 Q27.4968 625.038 32.1438 620.868 Q36.7589 616.667 44.7161 616.667 M42.9973 622.523 Q38.1912 622.587 35.3266 625.228 Q32.4621 627.838 32.4621 632.167 Q32.4621 637.069 35.2312 640.029 Q38.0002 642.957 43.0292 643.403 L42.9973 622.523 Z\" fill=\"#000000\" fill-rule=\"nonzero\" fill-opacity=\"1\" /><path clip-path=\"url(#clip040)\" d=\"M33.7671 583.597 L14.479 583.597 L14.479 577.74 L64.0042 577.74 L64.0042 583.597 L58.657 583.597 Q61.8398 585.443 63.3994 588.276 Q64.9272 591.076 64.9272 595.023 Q64.9272 601.484 59.771 605.558 Q54.6147 609.601 46.212 609.601 Q37.8093 609.601 32.6531 605.558 Q27.4968 601.484 27.4968 595.023 Q27.4968 591.076 29.0564 588.276 Q30.5842 585.443 33.7671 583.597 M46.212 603.553 Q52.6732 603.553 56.3653 600.911 Q60.0256 598.238 60.0256 593.591 Q60.0256 588.944 56.3653 586.27 Q52.6732 583.597 46.212 583.597 Q39.7508 583.597 36.0905 586.27 Q32.3984 588.944 32.3984 593.591 Q32.3984 598.238 36.0905 600.911 Q39.7508 603.553 46.212 603.553 Z\" fill=\"#000000\" fill-rule=\"nonzero\" fill-opacity=\"1\" /><polyline clip-path=\"url(#clip042)\" style=\"stroke:#009af9; stroke-linecap:round; stroke-linejoin:round; stroke-width:4; stroke-opacity:1; fill:none\" points=\"264.778,86.1857 467.495,553.485 670.211,916.939 872.927,1176.55 1075.64,1332.32 1278.36,1384.24 1481.08,1332.32 1683.79,1176.55 1886.51,916.939 2089.22,553.485 2291.94,86.1857 \"/>\n",
              "<path clip-path=\"url(#clip040)\" d=\"M1837.2 1377.32 L2281.13 1377.32 L2281.13 1273.64 L1837.2 1273.64  Z\" fill=\"#ffffff\" fill-rule=\"evenodd\" fill-opacity=\"1\"/>\n",
              "<polyline clip-path=\"url(#clip040)\" style=\"stroke:#000000; stroke-linecap:round; stroke-linejoin:round; stroke-width:4; stroke-opacity:1; fill:none\" points=\"1837.2,1377.32 2281.13,1377.32 2281.13,1273.64 1837.2,1273.64 1837.2,1377.32 \"/>\n",
              "<polyline clip-path=\"url(#clip040)\" style=\"stroke:#009af9; stroke-linecap:round; stroke-linejoin:round; stroke-width:4; stroke-opacity:1; fill:none\" points=\"1861.08,1325.48 2004.33,1325.48 \"/>\n",
              "<path clip-path=\"url(#clip040)\" d=\"M2052.86 1316.83 L2043.48 1329.45 L2053.34 1342.76 L2048.32 1342.76 L2040.77 1332.57 L2033.23 1342.76 L2028.2 1342.76 L2038.27 1329.19 L2029.06 1316.83 L2034.08 1316.83 L2040.96 1326.07 L2047.83 1316.83 L2052.86 1316.83 Z\" fill=\"#000000\" fill-rule=\"nonzero\" fill-opacity=\"1\" /><path clip-path=\"url(#clip040)\" d=\"M2090.96 1317.59 L2090.96 1321.62 Q2089.15 1320.7 2087.21 1320.23 Q2085.26 1319.77 2083.18 1319.77 Q2080.01 1319.77 2078.41 1320.74 Q2076.84 1321.71 2076.84 1323.66 Q2076.84 1325.14 2077.97 1326 Q2079.11 1326.83 2082.53 1327.59 L2083.99 1327.92 Q2088.53 1328.89 2090.43 1330.67 Q2092.35 1332.43 2092.35 1335.6 Q2092.35 1339.21 2089.48 1341.32 Q2086.63 1343.43 2081.63 1343.43 Q2079.55 1343.43 2077.28 1343.01 Q2075.03 1342.62 2072.53 1341.81 L2072.53 1337.41 Q2074.89 1338.63 2077.19 1339.26 Q2079.48 1339.86 2081.72 1339.86 Q2084.73 1339.86 2086.35 1338.84 Q2087.97 1337.8 2087.97 1335.93 Q2087.97 1334.19 2086.79 1333.26 Q2085.63 1332.34 2081.68 1331.48 L2080.19 1331.14 Q2076.24 1330.3 2074.48 1328.59 Q2072.72 1326.85 2072.72 1323.84 Q2072.72 1320.19 2075.31 1318.2 Q2077.9 1316.2 2082.67 1316.2 Q2085.03 1316.2 2087.12 1316.55 Q2089.2 1316.9 2090.96 1317.59 Z\" fill=\"#000000\" fill-rule=\"nonzero\" fill-opacity=\"1\" /><path clip-path=\"url(#clip040)\" d=\"M2101.68 1329.82 Q2101.68 1334.51 2103.6 1337.2 Q2105.54 1339.86 2108.92 1339.86 Q2112.3 1339.86 2114.25 1337.2 Q2116.19 1334.51 2116.19 1329.82 Q2116.19 1325.12 2114.25 1322.45 Q2112.3 1319.77 2108.92 1319.77 Q2105.54 1319.77 2103.6 1322.45 Q2101.68 1325.12 2101.68 1329.82 M2116.19 1338.87 Q2114.85 1341.18 2112.79 1342.32 Q2110.75 1343.43 2107.88 1343.43 Q2103.18 1343.43 2100.22 1339.68 Q2097.28 1335.93 2097.28 1329.82 Q2097.28 1323.7 2100.22 1319.95 Q2103.18 1316.2 2107.88 1316.2 Q2110.75 1316.2 2112.79 1317.34 Q2114.85 1318.45 2116.19 1320.76 L2116.19 1316.83 L2120.45 1316.83 L2120.45 1352.62 L2116.19 1352.62 L2116.19 1338.87 Z\" fill=\"#000000\" fill-rule=\"nonzero\" fill-opacity=\"1\" /><path clip-path=\"url(#clip040)\" d=\"M2128.78 1332.52 L2128.78 1316.83 L2133.04 1316.83 L2133.04 1332.36 Q2133.04 1336.04 2134.48 1337.89 Q2135.91 1339.72 2138.78 1339.72 Q2142.23 1339.72 2144.22 1337.52 Q2146.24 1335.32 2146.24 1331.53 L2146.24 1316.83 L2150.5 1316.83 L2150.5 1342.76 L2146.24 1342.76 L2146.24 1338.77 Q2144.69 1341.13 2142.63 1342.29 Q2140.59 1343.43 2137.88 1343.43 Q2133.41 1343.43 2131.1 1340.65 Q2128.78 1337.87 2128.78 1332.52 M2139.5 1316.2 L2139.5 1316.2 Z\" fill=\"#000000\" fill-rule=\"nonzero\" fill-opacity=\"1\" /><path clip-path=\"url(#clip040)\" d=\"M2171.05 1329.72 Q2165.89 1329.72 2163.9 1330.9 Q2161.91 1332.08 2161.91 1334.93 Q2161.91 1337.2 2163.39 1338.54 Q2164.89 1339.86 2167.46 1339.86 Q2171 1339.86 2173.13 1337.36 Q2175.29 1334.84 2175.29 1330.67 L2175.29 1329.72 L2171.05 1329.72 M2179.55 1327.96 L2179.55 1342.76 L2175.29 1342.76 L2175.29 1338.82 Q2173.83 1341.18 2171.65 1342.32 Q2169.48 1343.43 2166.33 1343.43 Q2162.35 1343.43 2159.99 1341.2 Q2157.65 1338.96 2157.65 1335.21 Q2157.65 1330.83 2160.56 1328.61 Q2163.5 1326.39 2169.31 1326.39 L2175.29 1326.39 L2175.29 1325.97 Q2175.29 1323.03 2173.34 1321.44 Q2171.42 1319.82 2167.93 1319.82 Q2165.7 1319.82 2163.6 1320.35 Q2161.49 1320.88 2159.55 1321.95 L2159.55 1318.01 Q2161.88 1317.11 2164.08 1316.67 Q2166.28 1316.2 2168.37 1316.2 Q2173.99 1316.2 2176.77 1319.12 Q2179.55 1322.04 2179.55 1327.96 Z\" fill=\"#000000\" fill-rule=\"nonzero\" fill-opacity=\"1\" /><path clip-path=\"url(#clip040)\" d=\"M2203.34 1320.81 Q2202.62 1320.39 2201.77 1320.21 Q2200.93 1320 2199.92 1320 Q2196.31 1320 2194.36 1322.36 Q2192.44 1324.7 2192.44 1329.1 L2192.44 1342.76 L2188.16 1342.76 L2188.16 1316.83 L2192.44 1316.83 L2192.44 1320.86 Q2193.78 1318.5 2195.93 1317.36 Q2198.09 1316.2 2201.17 1316.2 Q2201.61 1316.2 2202.14 1316.27 Q2202.67 1316.32 2203.32 1316.44 L2203.34 1320.81 Z\" fill=\"#000000\" fill-rule=\"nonzero\" fill-opacity=\"1\" /><path clip-path=\"url(#clip040)\" d=\"M2228.94 1328.73 L2228.94 1330.81 L2209.36 1330.81 Q2209.64 1335.21 2212 1337.52 Q2214.38 1339.82 2218.62 1339.82 Q2221.07 1339.82 2223.37 1339.21 Q2225.68 1338.61 2227.95 1337.41 L2227.95 1341.44 Q2225.66 1342.41 2223.25 1342.92 Q2220.84 1343.43 2218.37 1343.43 Q2212.16 1343.43 2208.53 1339.82 Q2204.92 1336.2 2204.92 1330.05 Q2204.92 1323.68 2208.34 1319.95 Q2211.79 1316.2 2217.62 1316.2 Q2222.86 1316.2 2225.89 1319.58 Q2228.94 1322.94 2228.94 1328.73 M2224.68 1327.48 Q2224.64 1323.98 2222.72 1321.9 Q2220.82 1319.82 2217.67 1319.82 Q2214.11 1319.82 2211.95 1321.83 Q2209.82 1323.84 2209.5 1327.5 L2224.68 1327.48 Z\" fill=\"#000000\" fill-rule=\"nonzero\" fill-opacity=\"1\" /><path clip-path=\"url(#clip040)\" d=\"M2252.99 1320.76 L2252.99 1306.74 L2257.25 1306.74 L2257.25 1342.76 L2252.99 1342.76 L2252.99 1338.87 Q2251.65 1341.18 2249.59 1342.32 Q2247.56 1343.43 2244.68 1343.43 Q2239.99 1343.43 2237.02 1339.68 Q2234.08 1335.93 2234.08 1329.82 Q2234.08 1323.7 2237.02 1319.95 Q2239.99 1316.2 2244.68 1316.2 Q2247.56 1316.2 2249.59 1317.34 Q2251.65 1318.45 2252.99 1320.76 M2238.48 1329.82 Q2238.48 1334.51 2240.4 1337.2 Q2242.35 1339.86 2245.73 1339.86 Q2249.11 1339.86 2251.05 1337.2 Q2252.99 1334.51 2252.99 1329.82 Q2252.99 1325.12 2251.05 1322.45 Q2249.11 1319.77 2245.73 1319.77 Q2242.35 1319.77 2240.4 1322.45 Q2238.48 1325.12 2238.48 1329.82 Z\" fill=\"#000000\" fill-rule=\"nonzero\" fill-opacity=\"1\" /></svg>\n"
            ]
          },
          "metadata": {},
          "output_type": "display_data"
        }
      ],
      "source": [
        "# insert your code here\n",
        "# function that squares the integer x\n",
        "function square(x)\n",
        "    sqd = x*x\n",
        "    return sqd\n",
        "end\n",
        "\n",
        "#plotting for set integers\n",
        "x = [-5, -4, -3, -2, -1, 0, 1, 2, 3, 4, 5]\n",
        "y = []\n",
        "for n in 1:length(x)\n",
        "    sqd = square(x[n])\n",
        "    y = append!(y, sqd)\n",
        "end\n",
        "plot(x,y, label=\"x squared\")\n",
        "xlabel!(\"x\")\n",
        "ylabel!(\"x squared\")\n"
      ]
    },
    {
      "cell_type": "markdown",
      "id": "eaca6031-e691-4019-9986-e7127b3df842",
      "metadata": {},
      "source": [
        "## Commit and Push Your Changes to GitHub\n",
        "\n",
        "After completing the previous two exercises, commit your solution file\n",
        "(notebook or otherwise) and push to GitHub. Use an informative commit\n",
        "message which makes it clear what changes you’ve made. The specific\n",
        "workflow for this will vary depending on how you’re writing up your\n",
        "solutions; please search for specifics and ask for help as needed!\n",
        "\n",
        "> **Useful Commit Sizes**\n",
        ">\n",
        "> Ideally, you’d commit whenever you make a “substantial” enough change\n",
        "> that you want to lock in, such as writing the core code for a problem\n",
        "> or completing a problem, if you’re preparing code to be used elsewhere\n",
        "> (by yourself or others), or if you want to ask for help. `git` lets\n",
        "> you revert changes back to a previous commit, so it’s easy to undo\n",
        "> changes or updates which broke something that was previously working,\n",
        "> so changing too many things at once can make it hard to keep track of\n",
        "> what worked when.\n",
        ">\n",
        "> But in this case, go ahead and just commit after finishing the\n",
        "> problems.\n",
        "\n",
        "Push the repository with these commits to GitHub and take a screenshot\n",
        "of the repository page\n",
        "(`https://github.com/BEE4750-FA24/<username>/lab01`) which shows the\n",
        "updated repository. Include that screenshot in your submission as the\n",
        "solution to this problem.\n",
        "\n",
        "## Submitting PDF\n",
        "\n",
        "> **Important**\n",
        ">\n",
        "> These submission instructions will not be repeated on future\n",
        "> assignments!\n",
        "\n",
        "Export your writeup as a PDF and submit it to the “Lab 1” assignment on\n",
        "Gradescope. Make sure that you tag pages corresponding to relevant\n",
        "problems to avoid a 10% penalty.\n",
        "\n",
        "> **Printing Code to PDF**\n",
        ">\n",
        "> You are not required to submit your code when submitting assignments.\n",
        "> However, when printing a notebook to PDF, long lines will run off the\n",
        "> edge of code cells, which may result in comments or code being hidden.\n",
        "> If you see this, go back to the notebook and break up long lines into\n",
        "> shorter onces (for example, see the comment in the above code cell) to\n",
        "> ensure key parts of your results aren’t missing."
      ]
    }
  ],
  "metadata": {
    "kernel_info": {
      "name": "julia"
    },
    "kernelspec": {
      "display_name": "Julia 1.10.4",
      "language": "julia",
      "name": "julia-1.10"
    },
    "language_info": {
      "file_extension": ".jl",
      "mimetype": "application/julia",
      "name": "julia",
      "version": "1.10.4"
    }
  },
  "nbformat": 4,
  "nbformat_minor": 5
}
